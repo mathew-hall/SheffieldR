{
 "cells": [
  {
   "cell_type": "markdown",
   "metadata": {},
   "source": [
    "# NBN Package\n",
    "\n",
    "This notebook summarises the data available via the `rnbn` package."
   ]
  },
  {
   "cell_type": "markdown",
   "metadata": {},
   "source": [
    "##Setup\n",
    "\n",
    "`rnbn` is straight forward to get; we just need to install it from CRAN."
   ]
  },
  {
   "cell_type": "code",
   "execution_count": 2,
   "metadata": {
    "collapsed": false
   },
   "outputs": [
    {
     "name": "stdout",
     "output_type": "stream",
     "text": [
      "\n",
      "The downloaded binary packages are in\n",
      "\t/var/folders/y_/wsxrd3b16k99k229_7f38sph0000gn/T//RtmpFm8TKJ/downloaded_packages\n"
     ]
    },
    {
     "name": "stderr",
     "output_type": "stream",
     "text": [
      "Warning message:\n",
      ": package ‘rnbn’ was built under R version 3.1.2"
     ]
    }
   ],
   "source": [
    "\n",
    "install.packages('rnbn')\n",
    "library(rnbn)"
   ]
  },
  {
   "cell_type": "code",
   "execution_count": 3,
   "metadata": {
    "collapsed": true
   },
   "outputs": [],
   "source": [
    "vignette('rnbn_vignette')"
   ]
  },
  {
   "cell_type": "markdown",
   "metadata": {},
   "source": [
    "## Logging In\n",
    "\n",
    "The NBN data service needs a username and password. The vignette contains instructions on how to get one. It's not strictly necessary to run `nbnLogin`; all the functions in the package will call `nbnLogin` automatically if you aren't already logged in.\n",
    "\n",
    "In this case I'm hiding my details in my environment to stop them getting printed out to the console."
   ]
  },
  {
   "cell_type": "code",
   "execution_count": 4,
   "metadata": {
    "collapsed": false
   },
   "outputs": [],
   "source": [
    "#Change these if running.\n",
    "nbn.user <- Sys.getenv(\"NBN_USER\")\n",
    "nbn.password <- Sys.getenv(\"NBN_PASSWORD\")\n",
    "\n",
    "nbnLogin(nbn.user,nbn.password)"
   ]
  },
  {
   "cell_type": "markdown",
   "metadata": {},
   "source": [
    "##Data Organisation\n",
    "The NBN set is principally designed to log observations of species in different locations at different times. This is an abstraction over the underlying data generated from studies and data sets.\n",
    "\n",
    "Data are principally organised by TVKs (Taxon Version Keys). A Taxon is simply a thing that can have observations logged about it. The package includes a function to get the TVKs for names of species to make the mapping easier.\n",
    "\n",
    "This shows one of several views of the NBN data we can access; the taxon-level information which includes more details on the species and some aggregate stats."
   ]
  },
  {
   "cell_type": "code",
   "execution_count": 7,
   "metadata": {
    "collapsed": false
   },
   "outputs": [
    {
     "data": {
      "text/html": [
       "<table>\n",
       "<thead><tr><th></th><th scope=col>entityType</th><th scope=col>searchMatchTitle</th><th scope=col>descript</th><th scope=col>pExtendedName</th><th scope=col>taxonVersionKey</th><th scope=col>name</th><th scope=col>languageKey</th><th scope=col>taxonOutputGroupKey</th><th scope=col>taxonOutputGroupName</th><th scope=col>organismKey</th><th scope=col>rank</th><th scope=col>nameStatus</th><th scope=col>versionForm</th><th scope=col>gatewayRecordCount</th><th scope=col>href</th><th scope=col>ptaxonVersionKey</th></tr></thead>\n",
       "<tbody>\n",
       "\t<tr><th scope=row>1</th><td>taxon</td><td>Badger</td><td>Meles meles (Linnaeus, 1758), TERRESTRIAL MAMMAL, 63970 record(s)</td><td>Meles meles (Linnaeus, 1758), TERRESTRIAL MAMMAL</td><td>NBNSYS0000164968</td><td>Badger</td><td>en</td><td>NHMSYS0000080085</td><td>terrestrial mammal</td><td>NBNORG0000049711</td><td>Species</td><td>Synonym</td><td>Well-formed</td><td>63970</td><td>https://data.nbn.org.uk/Taxa/NHMSYS0000080191</td><td>NHMSYS0000080191</td></tr>\n",
       "\t<tr><th scope=row>2</th><td>taxon</td><td>Badger Flea</td><td>Paraceras melis (Walker, 1856), INSECT - FLEA (SIPHONAPTERA), 472 record(s)</td><td>Paraceras melis (Walker, 1856), INSECT - FLEA (SIPHONAPTERA)</td><td>NBNSYS0000164969</td><td>Badger Flea</td><td>en</td><td>NHMSYS0000629161</td><td>insect - flea (Siphonaptera)</td><td>NBNORG0000013049</td><td>Species</td><td>Recommended</td><td>Well-formed</td><td>472</td><td>https://data.nbn.org.uk/Taxa/NBNSYS0000013055</td><td>NBNSYS0000013055</td></tr>\n",
       "\t<tr><th scope=row>3</th><td>taxon</td><td>a Badger flea</td><td>Chaetopsylla (Chaetopsylla) trichosa Kohaut, 1903, INSECT - FLEA (SIPHONAPTERA), 2 record(s)</td><td>Chaetopsylla (Chaetopsylla) trichosa Kohaut, 1903, INSECT - FLEA (SIPHONAPTERA)</td><td>NHMSYS0020322599</td><td>a Badger flea</td><td>en</td><td>NHMSYS0000629161</td><td>insect - flea (Siphonaptera)</td><td>NBNORG0000061712</td><td>Species</td><td>Recommended</td><td>Well-formed</td><td>2</td><td>https://data.nbn.org.uk/Taxa/NHMSYS0000545919</td><td>NHMSYS0000545919</td></tr>\n",
       "\t<tr><th scope=row>4</th><td>taxon</td><td>Eurasian Badger</td><td>Meles meles (Linnaeus, 1758), TERRESTRIAL MAMMAL, 63970 record(s)</td><td>Meles meles (Linnaeus, 1758), TERRESTRIAL MAMMAL</td><td>NHMSYS0000332260</td><td>Eurasian Badger</td><td>en</td><td>NHMSYS0000080085</td><td>terrestrial mammal</td><td>NBNORG0000049711</td><td>Species</td><td>Recommended</td><td>Well-formed</td><td>63970</td><td>https://data.nbn.org.uk/Taxa/NHMSYS0000080191</td><td>NHMSYS0000080191</td></tr>\n",
       "</tbody>\n",
       "</table>\n"
      ],
      "text/latex": [
       "\\begin{tabular}{r|llllllllllllllll}\n",
       "  & entityType & searchMatchTitle & descript & pExtendedName & taxonVersionKey & name & languageKey & taxonOutputGroupKey & taxonOutputGroupName & organismKey & rank & nameStatus & versionForm & gatewayRecordCount & href & ptaxonVersionKey\\\\\n",
       "\\hline\n",
       "\t1 & taxon & Badger & Meles meles (Linnaeus, 1758), TERRESTRIAL MAMMAL, 63970 record(s) & Meles meles (Linnaeus, 1758), TERRESTRIAL MAMMAL & NBNSYS0000164968 & Badger & en & NHMSYS0000080085 & terrestrial mammal & NBNORG0000049711 & Species & Synonym & Well-formed & 63970 & https://data.nbn.org.uk/Taxa/NHMSYS0000080191 & NHMSYS0000080191\\\\\n",
       "\t2 & taxon & Badger Flea & Paraceras melis (Walker, 1856), INSECT - FLEA (SIPHONAPTERA), 472 record(s) & Paraceras melis (Walker, 1856), INSECT - FLEA (SIPHONAPTERA) & NBNSYS0000164969 & Badger Flea & en & NHMSYS0000629161 & insect - flea (Siphonaptera) & NBNORG0000013049 & Species & Recommended & Well-formed & 472 & https://data.nbn.org.uk/Taxa/NBNSYS0000013055 & NBNSYS0000013055\\\\\n",
       "\t3 & taxon & a Badger flea & Chaetopsylla (Chaetopsylla) trichosa Kohaut, 1903, INSECT - FLEA (SIPHONAPTERA), 2 record(s) & Chaetopsylla (Chaetopsylla) trichosa Kohaut, 1903, INSECT - FLEA (SIPHONAPTERA) & NHMSYS0020322599 & a Badger flea & en & NHMSYS0000629161 & insect - flea (Siphonaptera) & NBNORG0000061712 & Species & Recommended & Well-formed & 2 & https://data.nbn.org.uk/Taxa/NHMSYS0000545919 & NHMSYS0000545919\\\\\n",
       "\t4 & taxon & Eurasian Badger & Meles meles (Linnaeus, 1758), TERRESTRIAL MAMMAL, 63970 record(s) & Meles meles (Linnaeus, 1758), TERRESTRIAL MAMMAL & NHMSYS0000332260 & Eurasian Badger & en & NHMSYS0000080085 & terrestrial mammal & NBNORG0000049711 & Species & Recommended & Well-formed & 63970 & https://data.nbn.org.uk/Taxa/NHMSYS0000080191 & NHMSYS0000080191\\\\\n",
       "\\end{tabular}\n"
      ],
      "text/plain": [
       "  entityType searchMatchTitle\n",
       "1      taxon           Badger\n",
       "2      taxon      Badger Flea\n",
       "3      taxon    a Badger flea\n",
       "4      taxon  Eurasian Badger\n",
       "                                                                                      descript\n",
       "1                            Meles meles (Linnaeus, 1758), TERRESTRIAL MAMMAL, 63970 record(s)\n",
       "2                  Paraceras melis (Walker, 1856), INSECT - FLEA (SIPHONAPTERA), 472 record(s)\n",
       "3 Chaetopsylla (Chaetopsylla) trichosa Kohaut, 1903, INSECT - FLEA (SIPHONAPTERA), 2 record(s)\n",
       "4                            Meles meles (Linnaeus, 1758), TERRESTRIAL MAMMAL, 63970 record(s)\n",
       "                                                                    pExtendedName\n",
       "1                                Meles meles (Linnaeus, 1758), TERRESTRIAL MAMMAL\n",
       "2                    Paraceras melis (Walker, 1856), INSECT - FLEA (SIPHONAPTERA)\n",
       "3 Chaetopsylla (Chaetopsylla) trichosa Kohaut, 1903, INSECT - FLEA (SIPHONAPTERA)\n",
       "4                                Meles meles (Linnaeus, 1758), TERRESTRIAL MAMMAL\n",
       "   taxonVersionKey            name languageKey taxonOutputGroupKey\n",
       "1 NBNSYS0000164968          Badger          en    NHMSYS0000080085\n",
       "2 NBNSYS0000164969     Badger Flea          en    NHMSYS0000629161\n",
       "3 NHMSYS0020322599   a Badger flea          en    NHMSYS0000629161\n",
       "4 NHMSYS0000332260 Eurasian Badger          en    NHMSYS0000080085\n",
       "          taxonOutputGroupName      organismKey    rank  nameStatus versionForm\n",
       "1           terrestrial mammal NBNORG0000049711 Species     Synonym Well-formed\n",
       "2 insect - flea (Siphonaptera) NBNORG0000013049 Species Recommended Well-formed\n",
       "3 insect - flea (Siphonaptera) NBNORG0000061712 Species Recommended Well-formed\n",
       "4           terrestrial mammal NBNORG0000049711 Species Recommended Well-formed\n",
       "  gatewayRecordCount                                          href\n",
       "1              63970 https://data.nbn.org.uk/Taxa/NHMSYS0000080191\n",
       "2                472 https://data.nbn.org.uk/Taxa/NBNSYS0000013055\n",
       "3                  2 https://data.nbn.org.uk/Taxa/NHMSYS0000545919\n",
       "4              63970 https://data.nbn.org.uk/Taxa/NHMSYS0000080191\n",
       "  ptaxonVersionKey\n",
       "1 NHMSYS0000080191\n",
       "2 NBNSYS0000013055\n",
       "3 NHMSYS0000545919\n",
       "4 NHMSYS0000080191"
      ]
     },
     "execution_count": 7,
     "metadata": {},
     "output_type": "execute_result"
    }
   ],
   "source": [
    "head(getTVKQuery(query=\"badger\"))"
   ]
  },
  {
   "cell_type": "markdown",
   "metadata": {},
   "source": [
    "Lists are OK, but usually we just want the top result:"
   ]
  },
  {
   "cell_type": "code",
   "execution_count": 9,
   "metadata": {
    "collapsed": false
   },
   "outputs": [
    {
     "data": {
      "text/html": [
       "<table>\n",
       "<thead><tr><th></th><th scope=col>entityType</th><th scope=col>searchMatchTitle</th><th scope=col>descript</th><th scope=col>pExtendedName</th><th scope=col>taxonVersionKey</th><th scope=col>name</th><th scope=col>languageKey</th><th scope=col>taxonOutputGroupKey</th><th scope=col>taxonOutputGroupName</th><th scope=col>organismKey</th><th scope=col>rank</th><th scope=col>nameStatus</th><th scope=col>versionForm</th><th scope=col>gatewayRecordCount</th><th scope=col>href</th><th scope=col>ptaxonVersionKey</th></tr></thead>\n",
       "<tbody>\n",
       "\t<tr><th scope=row>1</th><td>taxon</td><td>Badger</td><td>Meles meles (Linnaeus, 1758), TERRESTRIAL MAMMAL, 63970 record(s)</td><td>Meles meles (Linnaeus, 1758), TERRESTRIAL MAMMAL</td><td>NBNSYS0000164968</td><td>Badger</td><td>en</td><td>NHMSYS0000080085</td><td>terrestrial mammal</td><td>NBNORG0000049711</td><td>Species</td><td>Synonym</td><td>Well-formed</td><td>63970</td><td>https://data.nbn.org.uk/Taxa/NHMSYS0000080191</td><td>NHMSYS0000080191</td></tr>\n",
       "</tbody>\n",
       "</table>\n"
      ],
      "text/latex": [
       "\\begin{tabular}{r|llllllllllllllll}\n",
       "  & entityType & searchMatchTitle & descript & pExtendedName & taxonVersionKey & name & languageKey & taxonOutputGroupKey & taxonOutputGroupName & organismKey & rank & nameStatus & versionForm & gatewayRecordCount & href & ptaxonVersionKey\\\\\n",
       "\\hline\n",
       "\t1 & taxon & Badger & Meles meles (Linnaeus, 1758), TERRESTRIAL MAMMAL, 63970 record(s) & Meles meles (Linnaeus, 1758), TERRESTRIAL MAMMAL & NBNSYS0000164968 & Badger & en & NHMSYS0000080085 & terrestrial mammal & NBNORG0000049711 & Species & Synonym & Well-formed & 63970 & https://data.nbn.org.uk/Taxa/NHMSYS0000080191 & NHMSYS0000080191\\\\\n",
       "\\end{tabular}\n"
      ],
      "text/plain": [
       "  entityType searchMatchTitle\n",
       "1      taxon           Badger\n",
       "                                                           descript\n",
       "1 Meles meles (Linnaeus, 1758), TERRESTRIAL MAMMAL, 63970 record(s)\n",
       "                                     pExtendedName  taxonVersionKey   name\n",
       "1 Meles meles (Linnaeus, 1758), TERRESTRIAL MAMMAL NBNSYS0000164968 Badger\n",
       "  languageKey taxonOutputGroupKey taxonOutputGroupName      organismKey    rank\n",
       "1          en    NHMSYS0000080085   terrestrial mammal NBNORG0000049711 Species\n",
       "  nameStatus versionForm gatewayRecordCount\n",
       "1    Synonym Well-formed              63970\n",
       "                                           href ptaxonVersionKey\n",
       "1 https://data.nbn.org.uk/Taxa/NHMSYS0000080191 NHMSYS0000080191"
      ]
     },
     "execution_count": 9,
     "metadata": {},
     "output_type": "execute_result"
    }
   ],
   "source": [
    "getTVKQuery(query=\"badger\", top=T)"
   ]
  },
  {
   "cell_type": "markdown",
   "metadata": {},
   "source": [
    "Armed with a Taxon Version Key, you can then interrogate the NBN database for observations of that species."
   ]
  },
  {
   "cell_type": "code",
   "execution_count": null,
   "metadata": {
    "collapsed": false
   },
   "outputs": [],
   "source": [
    "mushroom <- getTVKQuery(query=\"mushroom\", top=T)\n",
    "occurrences <- getOccurrences(tvks = mushroom$ptaxonVersionKey,silent=T,acceptTandC=T)\n",
    "plot(occurrences$latitude, occurrences$longitude)"
   ]
  },
  {
   "cell_type": "code",
   "execution_count": null,
   "metadata": {
    "collapsed": true
   },
   "outputs": [],
   "source": []
  }
 ],
 "metadata": {
  "kernelspec": {
   "display_name": "R",
   "language": "R",
   "name": "ir"
  },
  "language_info": {
   "codemirror_mode": "r",
   "file_extension": ".r",
   "mimetype": "text/x-r-source",
   "name": "R",
   "pygments_lexer": "r",
   "version": "3.1.1"
  }
 },
 "nbformat": 4,
 "nbformat_minor": 0
}
